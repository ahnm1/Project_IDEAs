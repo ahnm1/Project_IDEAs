{
 "cells": [
  {
   "cell_type": "code",
   "execution_count": 1,
   "metadata": {},
   "outputs": [],
   "source": [
    "import pandas as pd\n",
    "import requests as rq\n",
    "from pyscbwrapper import SCB"
   ]
  },
  {
   "attachments": {},
   "cell_type": "markdown",
   "metadata": {},
   "source": [
    "-----------------\n",
    "### Request the Data From SCB"
   ]
  },
  {
   "cell_type": "code",
   "execution_count": 2,
   "metadata": {},
   "outputs": [],
   "source": [
    "# Fetch values from 1994-2008\n",
    "scb_old        = SCB('sv', 'NV', 'NV1401', 'NV1401X', 'KonkurserAnst')\n",
    "fetch_data_old = scb_old.get_data()\n",
    "\n",
    "# Fetch values from 2009-2022\n",
    "scb_new        = SCB('sv', 'NV', 'NV1401', 'NV1401A', 'KonkurserAnst07')\n",
    "fetch_data_new = scb_new.get_data()"
   ]
  },
  {
   "attachments": {},
   "cell_type": "markdown",
   "metadata": {},
   "source": [
    "------------------\n",
    "### Save the Raw Data"
   ]
  },
  {
   "cell_type": "code",
   "execution_count": 3,
   "metadata": {},
   "outputs": [],
   "source": [
    "# First Old Data\n",
    "with open('source/source_konkurser_1994-2008_from_api.json', 'w') as outfile:\n",
    "    outfile.write(f'{fetch_data_old}')\n",
    "\n",
    "# Then New Data\n",
    "with open('source/source_konkurser_2009-2022_from_api.json', 'w') as outfile:\n",
    "    outfile.write(f'{fetch_data_new}')"
   ]
  },
  {
   "attachments": {},
   "cell_type": "markdown",
   "metadata": {},
   "source": [
    "------------\n",
    "### Remove Irrelevant Data"
   ]
  },
  {
   "cell_type": "code",
   "execution_count": 4,
   "metadata": {},
   "outputs": [],
   "source": [
    "# First Old Data\n",
    "old_source_data = 'source/source_konkurser_1994-2008_from_api.json'\n",
    "old_only_data   = 'raw/raw_konkurser_1994-2008_from_api.json'\n",
    "\n",
    "with open(old_source_data, 'r') as old_in, open(old_only_data, 'w') as old_out:\n",
    "    old_text = eval(old_in.readlines()[0])\n",
    "    old_out.write(f\"{old_text['data']}\")\n",
    "\n",
    "\n",
    "# Then New Data\n",
    "new_raw_data  = 'source/source_konkurser_2009-2022_from_api.json'\n",
    "new_only_data = 'raw/raw_konkurser_2009-2022_from_api.json'\n",
    "\n",
    "with open(new_raw_data, 'r') as new_in, open(new_only_data, 'w') as new_out:\n",
    "    new_text = eval(new_in.readlines()[0])\n",
    "    new_out.write(f\"{new_text['data']}\")"
   ]
  },
  {
   "attachments": {},
   "cell_type": "markdown",
   "metadata": {},
   "source": [
    "------------\n",
    "### Clean the Data"
   ]
  },
  {
   "cell_type": "code",
   "execution_count": 5,
   "metadata": {},
   "outputs": [],
   "source": [
    "from collections import defaultdict\n",
    "\n",
    "# Define a dict to store values in memory\n",
    "dict_merge = defaultdict(str)\n",
    "\n",
    "with open(old_only_data, 'r') as old_in, open(new_only_data, 'r') as new_in:\n",
    "    list_old = eval(old_in.read())\n",
    "    list_new = eval(new_in.read())\n",
    "\n",
    "    # Add old items to dict\n",
    "    for item_old in list_old:\n",
    "        dict_merge[item_old['key'][0].replace('M', '-')] = item_old['values'][0]\n",
    "    \n",
    "    # Add new items to dict\n",
    "    for item_new in list_new:\n",
    "        dict_merge[item_new['key'][0].replace('M', '-')] = item_new['values'][0]\n",
    "\n",
    "\n",
    "# Make a df\n",
    "df = pd.DataFrame(dict_merge.items(), columns = ['date', 'layoffs'])"
   ]
  },
  {
   "cell_type": "code",
   "execution_count": 6,
   "metadata": {},
   "outputs": [
    {
     "name": "stdout",
     "output_type": "stream",
     "text": [
      "date       0\n",
      "layoffs    0\n",
      "dtype: int64\n"
     ]
    }
   ],
   "source": [
    "# Check for NULL\n",
    "print(df.isna().sum())"
   ]
  },
  {
   "attachments": {},
   "cell_type": "markdown",
   "metadata": {},
   "source": [
    "------------\n",
    "### Save as New Merged and Cleaned File"
   ]
  },
  {
   "cell_type": "code",
   "execution_count": 7,
   "metadata": {},
   "outputs": [],
   "source": [
    "# Save the clean data as csv\n",
    "df.to_csv('merge/clean_konkurser_1994-2022_from_api.csv', index = False)"
   ]
  }
 ],
 "metadata": {
  "kernelspec": {
   "display_name": "Python 3",
   "language": "python",
   "name": "python3"
  },
  "language_info": {
   "codemirror_mode": {
    "name": "ipython",
    "version": 3
   },
   "file_extension": ".py",
   "mimetype": "text/x-python",
   "name": "python",
   "nbconvert_exporter": "python",
   "pygments_lexer": "ipython3",
   "version": "3.11.0"
  },
  "orig_nbformat": 4,
  "vscode": {
   "interpreter": {
    "hash": "2abcc8804e96bd799831c2c1d99a21bc2f10df67ac9ed14bd8d3bc0f7de46b61"
   }
  }
 },
 "nbformat": 4,
 "nbformat_minor": 2
}
