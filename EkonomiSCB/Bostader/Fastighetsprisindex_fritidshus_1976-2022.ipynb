{
 "cells": [
  {
   "cell_type": "code",
   "execution_count": 51,
   "metadata": {},
   "outputs": [],
   "source": [
    "from pyscbwrapper import SCB\n",
    "import os\n",
    "CURR_DIR_PATH = os.path.dirname(os.path.realpath('__file__'))"
   ]
  },
  {
   "attachments": {},
   "cell_type": "markdown",
   "metadata": {},
   "source": [
    "-----------------\n",
    "### Get Raw Fritidshus Data"
   ]
  },
  {
   "cell_type": "code",
   "execution_count": 52,
   "metadata": {},
   "outputs": [
    {
     "name": "stdout",
     "output_type": "stream",
     "text": [
      "dict_keys(['columns', 'comments', 'data', 'metadata'])\n"
     ]
    }
   ],
   "source": [
    "scb = SCB('sv', 'BO', 'BO0501', 'BO0501A', 'BO0501A', 'FastpiFritidRegAr')\n",
    "# scb.info()\n",
    "data = scb.get_data()\n",
    "print((data.keys()))\n",
    "data"
   ]
  },
  {
   "attachments": {},
   "cell_type": "markdown",
   "metadata": {},
   "source": [
    "-------------\n",
    "### Save Raw Data"
   ]
  },
  {
   "cell_type": "code",
   "execution_count": 53,
   "metadata": {},
   "outputs": [
    {
     "name": "stdout",
     "output_type": "stream",
     "text": [
      "/Users/alexanderhansson/Documents/Project_IDEAs/EkonomiSCB/Bostader\n"
     ]
    }
   ],
   "source": [
    "print(CURR_DIR_PATH)\n",
    "raw_file = 'raw/raw_fastighetsprisindex_fritidshus_1976-2022.json'\n",
    "with open(raw_file, 'w') as outfile:\n",
    "    outfile.write(f'{data}')"
   ]
  },
  {
   "attachments": {},
   "cell_type": "markdown",
   "metadata": {},
   "source": [
    "--------------\n",
    "### Harmonize Data"
   ]
  },
  {
   "cell_type": "code",
   "execution_count": 54,
   "metadata": {},
   "outputs": [],
   "source": [
    "harmonized_file = 'harmonized/harmonized_fastighetsprisindex_fritidshus_1976-2022.csv'\n",
    "with open(raw_file, 'r') as infile, open(harmonized_file, 'w') as outfile:\n",
    "    json_dict = eval(infile.read())\n",
    "    # print((json_dict))\n",
    "\n",
    "    for key, values in json_dict.items():\n",
    "                if key == 'columns':\n",
    "                    outfile.write(f\"{values[0]['text']},{values[1]['text']}\\n\".replace(' ', '_'))\n",
    "\n",
    "                elif key == 'data':\n",
    "                    for item in values:\n",
    "                        outfile.write(f\"{item['key'][0]},{item['values'][0]}\\n\")\n",
    "\n",
    "                elif key == 'comments':\n",
    "                    outfile.write(f'{key},{values}\\n')\n",
    "                    \n",
    "                elif key == 'metadata':\n",
    "                    for item in values:\n",
    "                        for k, v in item.items():\n",
    "                            outfile.write(f\"{k},{v}\\n\")\n",
    "        "
   ]
  },
  {
   "attachments": {},
   "cell_type": "markdown",
   "metadata": {},
   "source": [
    "-------------\n",
    "### Final Cleaning"
   ]
  },
  {
   "cell_type": "code",
   "execution_count": 55,
   "metadata": {},
   "outputs": [],
   "source": [
    "clean_file = 'clean/clean_fastighetsprisindex_fritidshus_1976-2022.csv'\n",
    "with open(harmonized_file, 'r') as infile, open(clean_file, 'w') as outfile:\n",
    "    lines = infile.readlines()\n",
    "\n",
    "    for line in lines[:-4]:\n",
    "        \n",
    "        if line.startswith('comment') == True:\n",
    "            pass\n",
    "        \n",
    "        else:\n",
    "            outfile.write(f'{line}')"
   ]
  }
 ],
 "metadata": {
  "kernelspec": {
   "display_name": "Python 3",
   "language": "python",
   "name": "python3"
  },
  "language_info": {
   "codemirror_mode": {
    "name": "ipython",
    "version": 3
   },
   "file_extension": ".py",
   "mimetype": "text/x-python",
   "name": "python",
   "nbconvert_exporter": "python",
   "pygments_lexer": "ipython3",
   "version": "3.11.0"
  },
  "orig_nbformat": 4,
  "vscode": {
   "interpreter": {
    "hash": "2abcc8804e96bd799831c2c1d99a21bc2f10df67ac9ed14bd8d3bc0f7de46b61"
   }
  }
 },
 "nbformat": 4,
 "nbformat_minor": 2
}
