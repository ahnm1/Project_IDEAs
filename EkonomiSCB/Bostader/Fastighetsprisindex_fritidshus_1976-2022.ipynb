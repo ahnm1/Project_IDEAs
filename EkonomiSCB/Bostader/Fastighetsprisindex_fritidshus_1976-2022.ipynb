{
 "cells": [
  {
   "cell_type": "code",
   "execution_count": 3,
   "metadata": {},
   "outputs": [],
   "source": [
    "from pyscbwrapper import SCB"
   ]
  },
  {
   "attachments": {},
   "cell_type": "markdown",
   "metadata": {},
   "source": [
    "-----------------\n",
    "### Get Raw Fritidshus Data"
   ]
  },
  {
   "cell_type": "code",
   "execution_count": 17,
   "metadata": {},
   "outputs": [
    {
     "name": "stdout",
     "output_type": "stream",
     "text": [
      "dict_keys(['columns', 'comments', 'data', 'metadata'])\n"
     ]
    },
    {
     "data": {
      "text/plain": [
       "{'columns': [{'code': 'Tid', 'text': 'år', 'type': 't'},\n",
       "  {'code': 'BO0501O1',\n",
       "   'text': 'Fastighetsprisindex för fritidshus (1981=100)',\n",
       "   'type': 'c'}],\n",
       " 'comments': [],\n",
       " 'data': [{'key': ['1975'], 'values': ['52']},\n",
       "  {'key': ['1976'], 'values': ['64']},\n",
       "  {'key': ['1977'], 'values': ['76']},\n",
       "  {'key': ['1978'], 'values': ['88']},\n",
       "  {'key': ['1979'], 'values': ['97']},\n",
       "  {'key': ['1980'], 'values': ['101']},\n",
       "  {'key': ['1981'], 'values': ['100']},\n",
       "  {'key': ['1982'], 'values': ['104']},\n",
       "  {'key': ['1983'], 'values': ['107']},\n",
       "  {'key': ['1984'], 'values': ['112']},\n",
       "  {'key': ['1985'], 'values': ['117']},\n",
       "  {'key': ['1986'], 'values': ['123']},\n",
       "  {'key': ['1987'], 'values': ['139']},\n",
       "  {'key': ['1988'], 'values': ['166']},\n",
       "  {'key': ['1989'], 'values': ['191']},\n",
       "  {'key': ['1990'], 'values': ['216']},\n",
       "  {'key': ['1991'], 'values': ['253']},\n",
       "  {'key': ['1992'], 'values': ['225']},\n",
       "  {'key': ['1993'], 'values': ['205']},\n",
       "  {'key': ['1994'], 'values': ['215']},\n",
       "  {'key': ['1995'], 'values': ['215']},\n",
       "  {'key': ['1996'], 'values': ['219']},\n",
       "  {'key': ['1997'], 'values': ['228']},\n",
       "  {'key': ['1998'], 'values': ['248']},\n",
       "  {'key': ['1999'], 'values': ['268']},\n",
       "  {'key': ['2000'], 'values': ['306']},\n",
       "  {'key': ['2001'], 'values': ['335']},\n",
       "  {'key': ['2002'], 'values': ['358']},\n",
       "  {'key': ['2003'], 'values': ['383']},\n",
       "  {'key': ['2004'], 'values': ['424']},\n",
       "  {'key': ['2005'], 'values': ['470']},\n",
       "  {'key': ['2006'], 'values': ['527']},\n",
       "  {'key': ['2007'], 'values': ['588']},\n",
       "  {'key': ['2008'], 'values': ['603']},\n",
       "  {'key': ['2009'], 'values': ['633']},\n",
       "  {'key': ['2010'], 'values': ['679']},\n",
       "  {'key': ['2011'], 'values': ['677']},\n",
       "  {'key': ['2012'], 'values': ['664']},\n",
       "  {'key': ['2013'], 'values': ['682']},\n",
       "  {'key': ['2014'], 'values': ['710']},\n",
       "  {'key': ['2015'], 'values': ['785']},\n",
       "  {'key': ['2016'], 'values': ['826']},\n",
       "  {'key': ['2017'], 'values': ['902']},\n",
       "  {'key': ['2018'], 'values': ['892']},\n",
       "  {'key': ['2019'], 'values': ['923']},\n",
       "  {'key': ['2020'], 'values': ['1014']},\n",
       "  {'key': ['2021'], 'values': ['1186']},\n",
       "  {'key': ['2022'], 'values': ['1198']}],\n",
       " 'metadata': [{'infofile': 'BO0501',\n",
       "   'updated': '2023-01-25T13:44:00Z',\n",
       "   'label': 'Fastighetsprisindex för fritidshus (1981=100) efter år och tabellinnehåll',\n",
       "   'source': 'SCB'}]}"
      ]
     },
     "execution_count": 17,
     "metadata": {},
     "output_type": "execute_result"
    }
   ],
   "source": [
    "scb = SCB('sv', 'BO', 'BO0501', 'BO0501A', 'BO0501A', 'FastpiFritidRegAr')\n",
    "# scb.info()\n",
    "data = scb.get_data()\n",
    "print((data.keys()))\n",
    "data"
   ]
  },
  {
   "cell_type": "code",
   "execution_count": null,
   "metadata": {},
   "outputs": [],
   "source": [
    "# with\n",
    "\n",
    "# for key, values in data_dict.items():\n",
    "#             if key == 'columns':\n",
    "#                 outfile.write('year,antal,medelpris_tkr,medianpris_tkr\\n')\n",
    "\n",
    "#             elif key == 'data':\n",
    "#                 for item in values:\n",
    "#                     outfile.write(f\"{item['key'][0]},{item['values'][0]},{item['values'][1]},{item['values'][2]}\\n\")\n",
    "\n",
    "#             elif key == 'metadata':\n",
    "#                 for item in values:\n",
    "#                     for k, v in item.items():\n",
    "#                         outfile.write(f\"{k},{v}\\n\")"
   ]
  }
 ],
 "metadata": {
  "kernelspec": {
   "display_name": "venv",
   "language": "python",
   "name": "python3"
  },
  "language_info": {
   "codemirror_mode": {
    "name": "ipython",
    "version": 3
   },
   "file_extension": ".py",
   "mimetype": "text/x-python",
   "name": "python",
   "nbconvert_exporter": "python",
   "pygments_lexer": "ipython3",
   "version": "3.11.1 (tags/v3.11.1:a7a450f, Dec  6 2022, 19:58:39) [MSC v.1934 64 bit (AMD64)]"
  },
  "orig_nbformat": 4,
  "vscode": {
   "interpreter": {
    "hash": "4614bfa76d0932a2a7ec81638f332b7605137bbdfcf1ea51c173f6198a9573a1"
   }
  }
 },
 "nbformat": 4,
 "nbformat_minor": 2
}
