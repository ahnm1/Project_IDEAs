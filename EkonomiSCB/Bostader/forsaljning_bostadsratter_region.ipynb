{
 "cells": [
  {
   "cell_type": "code",
   "execution_count": 3,
   "metadata": {},
   "outputs": [],
   "source": [
    "from pyscbwrapper import SCB\n",
    "import pandas as pd"
   ]
  },
  {
   "cell_type": "code",
   "execution_count": 4,
   "metadata": {},
   "outputs": [
    {
     "name": "stdout",
     "output_type": "stream",
     "text": [
      "{'columns': [{'code': 'Tid', 'text': 'år', 'type': 't'}, {'code': 'BO0501R6', 'text': 'Antal', 'type': 'c'}, {'code': 'BO0501R7', 'text': 'Medelpris i tkr', 'type': 'c'}, {'code': 'BO0501R8', 'text': 'Medianpris i tkr', 'type': 'c'}], 'comments': [], 'data': [{'key': ['2000'], 'values': ['72392', '390', '173']}, {'key': ['2001'], 'values': ['72096', '441', '225']}, {'key': ['2002'], 'values': ['76297', '526', '295']}, {'key': ['2003'], 'values': ['81161', '571', '360']}, {'key': ['2004'], 'values': ['84787', '671', '455']}, {'key': ['2005'], 'values': ['89848', '776', '530']}, {'key': ['2006'], 'values': ['92697', '933', '650']}, {'key': ['2007'], 'values': ['99455', '1117', '795']}, {'key': ['2008'], 'values': ['89899', '1080', '800']}, {'key': ['2009'], 'values': ['94717', '1193', '880']}, {'key': ['2010'], 'values': ['98203', '1312', '995']}, {'key': ['2011'], 'values': ['93509', '1357', '1050']}, {'key': ['2012'], 'values': ['94141', '1411', '1110']}, {'key': ['2013'], 'values': ['100151', '1538', '1250']}, {'key': ['2014'], 'values': ['104652', '1720', '1425']}, {'key': ['2015'], 'values': ['110157', '2021', '1700']}, {'key': ['2016'], 'values': ['105656', '2210', '1870']}, {'key': ['2017'], 'values': ['109730', '2380', '2020']}, {'key': ['2018'], 'values': ['103508', '2254', '1900']}, {'key': ['2019'], 'values': ['107486', '2318', '1950']}, {'key': ['2020'], 'values': ['117083', '2520', '2100']}, {'key': ['2021'], 'values': ['125920', '2781', '2300']}], 'metadata': [{'infofile': 'BO0501', 'updated': '2022-06-27T09:02:00Z', 'label': 'Försäljning av bostadsrätter efter år och tabellinnehåll', 'source': 'SCB'}]}\n",
      "4\n"
     ]
    }
   ],
   "source": [
    "scb = SCB('sv', 'BO', 'BO0501', 'BO0501C', 'FastprisBRFRegionAr')\n",
    "data = scb.get_data()\n",
    "print(data)\n",
    "print(len(data))"
   ]
  },
  {
   "cell_type": "code",
   "execution_count": 5,
   "metadata": {},
   "outputs": [],
   "source": [
    "with open('raw/raw_forsaljning_bostadsratter_Medelpris_tkr_2000-2021.json', 'w') as outfile:\n",
    "    outfile.write(f\"{data}\")"
   ]
  },
  {
   "attachments": {},
   "cell_type": "markdown",
   "metadata": {},
   "source": [
    "-----------------------\n",
    "### Start cleaning operation"
   ]
  },
  {
   "cell_type": "code",
   "execution_count": 8,
   "metadata": {},
   "outputs": [],
   "source": [
    "from collections import defaultdict\n",
    "\n",
    "d_data_dict = defaultdict(str)\n",
    "\n",
    "with open('raw/raw_forsaljning_bostadsratter_Medelpris_tkr_2000-2021.json', 'r') as infile:\n",
    "    with open('harmonized/harmonized_forsaljning_bostadsratter_Medelpris_tkr_2000-2021.csv', 'w') as outfile:\n",
    "        data_dict = eval(infile.read())\n",
    "        \n",
    "        for key, values in data_dict.items():\n",
    "            if key == 'columns':\n",
    "                outfile.write('year,antal,medelpris_tkr,medianpris_tkr\\n')\n",
    "\n",
    "            elif key == 'data':\n",
    "                for item in values:\n",
    "                    outfile.write(f\"{item['key'][0]},{item['values'][0]},{item['values'][1]},{item['values'][2]}\\n\")\n",
    "\n",
    "            elif key == 'metadata':\n",
    "                for item in values:\n",
    "                    for k, v in item.items():\n",
    "                        outfile.write(f\"{k},{v}\\n\")\n",
    " \n",
    "    \n"
   ]
  },
  {
   "attachments": {},
   "cell_type": "markdown",
   "metadata": {},
   "source": [
    "-----------------\n",
    "### Final Cleaning"
   ]
  },
  {
   "cell_type": "code",
   "execution_count": 14,
   "metadata": {},
   "outputs": [],
   "source": [
    "infile  = 'harmonized/harmonized_forsaljning_bostadsratter_Medelpris_tkr_2000-2021.csv'\n",
    "outfile = 'clean/clean_forsaljning_bostadsratter_Medelpris_tkr_2000-2021.csv'\n",
    "# dict_json = # dict()\n",
    "data = []\n",
    "with open(infile, 'r') as in_file, open(outfile, 'w') as out_file:\n",
    "    lines = in_file.readlines()\n",
    "    \n",
    "    for line in lines[:-4]:\n",
    "        out_file.write(f'{line}')\n",
    "\n",
    "# df = pd.read_csv(infile, index_col = 0, engine = 'python', skipfooter = 4)\n",
    "# df.to_csv('clean/clean_forsaljning_bostadsratter_Medelpris_tkr_2000-2021.csv')"
   ]
  }
 ],
 "metadata": {
  "kernelspec": {
   "display_name": "venv",
   "language": "python",
   "name": "python3"
  },
  "language_info": {
   "codemirror_mode": {
    "name": "ipython",
    "version": 3
   },
   "file_extension": ".py",
   "mimetype": "text/x-python",
   "name": "python",
   "nbconvert_exporter": "python",
   "pygments_lexer": "ipython3",
   "version": "3.11.1"
  },
  "orig_nbformat": 4,
  "vscode": {
   "interpreter": {
    "hash": "4614bfa76d0932a2a7ec81638f332b7605137bbdfcf1ea51c173f6198a9573a1"
   }
  }
 },
 "nbformat": 4,
 "nbformat_minor": 2
}
